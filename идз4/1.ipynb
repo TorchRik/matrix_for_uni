{
 "cells": [
  {
   "cell_type": "code",
   "execution_count": 1,
   "outputs": [],
   "source": [
    "from library.matrix import Matrix\n",
    "from IPython.display import display, Latex\n",
    "\n",
    "A = Matrix([[1, 5, -1, -3], [-3, -8, 1, 4], [3, 4, -3, -2], [3, -6, 1, 2]])\n",
    "B = Matrix([[-1, 1, 1, 1], [-3, -6, -3, -2], [3, 4, 1, 2], [1, 2, 1, -2]])\n",
    "C = Matrix([[-3, 4, 2, -3], [1, -8, -3, 4], [-1, 8, 2, -5], [1, -4, -2, 1]])"
   ],
   "metadata": {
    "collapsed": false,
    "pycharm": {
     "name": "#%%\n"
    }
   }
  },
  {
   "cell_type": "markdown",
   "source": [
    "Заметим, что если определители матриц А и B задают один и тот же линейный оператор, но в разных базисах,\n",
    "то $\\exists$ обратимая С, такая что $A = C^{-1} * B * C$. Значит в том числе определители А и B равны.\n",
    "\n",
    "Найдем определители матриц:"
   ],
   "metadata": {
    "collapsed": false
   }
  },
  {
   "cell_type": "code",
   "execution_count": 2,
   "outputs": [
    {
     "name": "stdout",
     "output_type": "stream",
     "text": [
      "76\n",
      "16\n",
      "16\n"
     ]
    }
   ],
   "source": [
    "print(A.get_determinant())\n",
    "print(B.get_determinant())\n",
    "print(C.get_determinant())"
   ],
   "metadata": {
    "collapsed": false,
    "pycharm": {
     "name": "#%%\n"
    }
   }
  },
  {
   "cell_type": "markdown",
   "source": [
    "Теперь сразу очвеидно, что 1 матрица задает оператор отличный от 2 и 3.\n",
    "\n",
    "Найдем хар многочлены для 2 и 3 матрицы."
   ],
   "metadata": {
    "collapsed": false,
    "pycharm": {
     "name": "#%% md\n"
    }
   }
  },
  {
   "cell_type": "code",
   "execution_count": 3,
   "outputs": [
    {
     "name": "stdout",
     "output_type": "stream",
     "text": [
      "1*x^4 + 8*x^3 + 24*x^2 + 32*x^1 + 16*x^0 + \n",
      "1*x^4 + 8*x^3 + 24*x^2 + 32*x^1 + 16*x^0 + \n"
     ]
    }
   ],
   "source": [
    "print(B.get_characteristic_polynomial())\n",
    "print(C.get_characteristic_polynomial())"
   ],
   "metadata": {
    "collapsed": false,
    "pycharm": {
     "name": "#%%\n"
    }
   }
  },
  {
   "cell_type": "markdown",
   "source": [
    "$x^4 + 8 x^3 + 24 x^2 + 32 x + 16 = (x+2)^4$\n",
    "\n",
    "Хар многочлены совпадают и имеюют единственный корень, значит достаточно проверить, что\n",
    "$\\forall k \\leq 4$: $rk(B + E * 2)^k = rk(C + E * 2)^k$."
   ],
   "metadata": {
    "collapsed": false,
    "pycharm": {
     "name": "#%% md\n"
    }
   }
  },
  {
   "cell_type": "code",
   "execution_count": 4,
   "outputs": [
    {
     "data": {
      "text/plain": "<IPython.core.display.Latex object>",
      "text/latex": "$rank(B + E * 2)^1= : 2\\\\$"
     },
     "metadata": {},
     "output_type": "display_data"
    },
    {
     "data": {
      "text/plain": "<IPython.core.display.Latex object>",
      "text/latex": "$rank(C + E * 2)^1= : 2\\\\$"
     },
     "metadata": {},
     "output_type": "display_data"
    },
    {
     "data": {
      "text/plain": "<IPython.core.display.Latex object>",
      "text/latex": "$rank(B + E * 2)^2= : 1\\\\$"
     },
     "metadata": {},
     "output_type": "display_data"
    },
    {
     "data": {
      "text/plain": "<IPython.core.display.Latex object>",
      "text/latex": "$rank(C + E * 2)^2= : 0\\\\$"
     },
     "metadata": {},
     "output_type": "display_data"
    },
    {
     "data": {
      "text/plain": "<IPython.core.display.Latex object>",
      "text/latex": "$rank(B + E * 2)^3= : 0\\\\$"
     },
     "metadata": {},
     "output_type": "display_data"
    },
    {
     "data": {
      "text/plain": "<IPython.core.display.Latex object>",
      "text/latex": "$rank(C + E * 2)^3= : 0\\\\$"
     },
     "metadata": {},
     "output_type": "display_data"
    },
    {
     "data": {
      "text/plain": "<IPython.core.display.Latex object>",
      "text/latex": "$rank(B + E * 2)^4= : 0\\\\$"
     },
     "metadata": {},
     "output_type": "display_data"
    },
    {
     "data": {
      "text/plain": "<IPython.core.display.Latex object>",
      "text/latex": "$rank(C + E * 2)^4= : 0\\\\$"
     },
     "metadata": {},
     "output_type": "display_data"
    }
   ],
   "source": [
    "for i in range(1, 5):\n",
    "    rank = ((B + Matrix.get_id(B.n) * 2) ** i).get_rank()\n",
    "    display(Latex(f\"$rank(B + E * 2)^{i}= : {rank}\\\\\\\\$\"))\n",
    "    rank = ((C + Matrix.get_id(C.n) * 2) ** i).get_rank()\n",
    "    display(Latex(f\"$rank(C + E * 2)^{i}= : {rank}\\\\\\\\$\"))"
   ],
   "metadata": {
    "collapsed": false,
    "pycharm": {
     "name": "#%%\n"
    }
   }
  },
  {
   "cell_type": "markdown",
   "source": [
    "Видим, что начиная с k = 2 матрицы не совпадают."
   ],
   "metadata": {
    "collapsed": false
   }
  },
  {
   "cell_type": "code",
   "execution_count": null,
   "outputs": [],
   "source": [],
   "metadata": {
    "collapsed": false,
    "pycharm": {
     "name": "#%%\n"
    }
   }
  }
 ],
 "metadata": {
  "kernelspec": {
   "display_name": "Python 3",
   "language": "python",
   "name": "python3"
  },
  "language_info": {
   "codemirror_mode": {
    "name": "ipython",
    "version": 2
   },
   "file_extension": ".py",
   "mimetype": "text/x-python",
   "name": "python",
   "nbconvert_exporter": "python",
   "pygments_lexer": "ipython2",
   "version": "2.7.6"
  }
 },
 "nbformat": 4,
 "nbformat_minor": 0
}