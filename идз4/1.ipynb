{
 "cells": [
  {
   "cell_type": "code",
   "execution_count": 5,
   "outputs": [],
   "source": [
    "from library.matrix import Matrix\n",
    "from IPython.display import display, Latex\n",
    "\n",
    "A = Matrix([\n",
    "    [1, 5, -1, -3],\n",
    "    [-3, -8, 1, 4],\n",
    "    [3, 4, -3, -2],\n",
    "    [-3, -6, 1, 2]])\n",
    "B = Matrix([[-1, 1, 1, 1], [-3, -6, -3, -2], [3, 4, 1, 2], [1, 2, 1, -2]])\n",
    "C = Matrix([[-3, 4, 2, -3], [1, -8, -3, 4], [-1, 8, 2, -5], [1, -4, -2, 1]])"
   ],
   "metadata": {
    "collapsed": false,
    "pycharm": {
     "name": "#%%\n"
    }
   }
  },
  {
   "cell_type": "markdown",
   "source": [
    "Заметим, что если определители матриц А и B задают один и тот же линейный оператор, но в разных базисах,\n",
    "то $\\exists$ обратимая С, такая что $A = C^{-1} * B * C$. Значит в том числе определители А и B равны.\n",
    "\n",
    "Найдем определители матриц:"
   ],
   "metadata": {
    "collapsed": false
   }
  },
  {
   "cell_type": "code",
   "execution_count": 6,
   "outputs": [
    {
     "name": "stdout",
     "output_type": "stream",
     "text": [
      "16\n",
      "16\n",
      "16\n"
     ]
    }
   ],
   "source": [
    "print(A.get_determinant())\n",
    "print(B.get_determinant())\n",
    "print(C.get_determinant())"
   ],
   "metadata": {
    "collapsed": false,
    "pycharm": {
     "name": "#%%\n"
    }
   }
  },
  {
   "cell_type": "markdown",
   "source": [
    "Найдем хар многочлены для матриц."
   ],
   "metadata": {
    "collapsed": false,
    "pycharm": {
     "name": "#%% md\n"
    }
   }
  },
  {
   "cell_type": "code",
   "execution_count": 9,
   "outputs": [
    {
     "name": "stdout",
     "output_type": "stream",
     "text": [
      "1*x ** 4 + 8*x ** 3 + 24*x ** 2 + 32*x ** 1 + 16\n",
      "1*x ** 4 + 8*x ** 3 + 24*x ** 2 + 32*x ** 1 + 16\n",
      "1*x ** 4 + 8*x ** 3 + 24*x ** 2 + 32*x ** 1 + 16\n"
     ]
    }
   ],
   "source": [
    "print(A.get_characteristic_polynomial())\n",
    "print(B.get_characteristic_polynomial())\n",
    "print(C.get_characteristic_polynomial())"
   ],
   "metadata": {
    "collapsed": false,
    "pycharm": {
     "name": "#%%\n"
    }
   }
  },
  {
   "cell_type": "markdown",
   "source": [
    "$x^4 + 8 x^3 + 24 x^2 + 32 x + 16 = (x+2)^4$\n",
    "\n",
    "Хар многочлены совпадают и имеюют единственный корень, значит достаточно проверить, что\n",
    "$\\forall k \\leq 4$: $rk(B + E * 2)^k = rk(C + E * 2)^k$."
   ],
   "metadata": {
    "collapsed": false,
    "pycharm": {
     "name": "#%% md\n"
    }
   }
  },
  {
   "cell_type": "code",
   "execution_count": 10,
   "outputs": [
    {
     "data": {
      "text/plain": "<IPython.core.display.Latex object>",
      "text/latex": "$rank(A + E * 2)^1= : 2\\\\$"
     },
     "metadata": {},
     "output_type": "display_data"
    },
    {
     "data": {
      "text/plain": "<IPython.core.display.Latex object>",
      "text/latex": "$rank(B + E * 2)^1= : 2\\\\$"
     },
     "metadata": {},
     "output_type": "display_data"
    },
    {
     "data": {
      "text/plain": "<IPython.core.display.Latex object>",
      "text/latex": "$rank(C + E * 2)^1= : 2\\\\$"
     },
     "metadata": {},
     "output_type": "display_data"
    },
    {
     "data": {
      "text/plain": "<IPython.core.display.Latex object>",
      "text/latex": "$rank(A + E * 2)^2= : 1\\\\$"
     },
     "metadata": {},
     "output_type": "display_data"
    },
    {
     "data": {
      "text/plain": "<IPython.core.display.Latex object>",
      "text/latex": "$rank(B + E * 2)^2= : 1\\\\$"
     },
     "metadata": {},
     "output_type": "display_data"
    },
    {
     "data": {
      "text/plain": "<IPython.core.display.Latex object>",
      "text/latex": "$rank(C + E * 2)^2= : 0\\\\$"
     },
     "metadata": {},
     "output_type": "display_data"
    },
    {
     "data": {
      "text/plain": "<IPython.core.display.Latex object>",
      "text/latex": "$rank(A + E * 2)^3= : 0\\\\$"
     },
     "metadata": {},
     "output_type": "display_data"
    },
    {
     "data": {
      "text/plain": "<IPython.core.display.Latex object>",
      "text/latex": "$rank(B + E * 2)^3= : 0\\\\$"
     },
     "metadata": {},
     "output_type": "display_data"
    },
    {
     "data": {
      "text/plain": "<IPython.core.display.Latex object>",
      "text/latex": "$rank(C + E * 2)^3= : 0\\\\$"
     },
     "metadata": {},
     "output_type": "display_data"
    },
    {
     "data": {
      "text/plain": "<IPython.core.display.Latex object>",
      "text/latex": "$rank(A + E * 2)^4= : 0\\\\$"
     },
     "metadata": {},
     "output_type": "display_data"
    },
    {
     "data": {
      "text/plain": "<IPython.core.display.Latex object>",
      "text/latex": "$rank(B + E * 2)^4= : 0\\\\$"
     },
     "metadata": {},
     "output_type": "display_data"
    },
    {
     "data": {
      "text/plain": "<IPython.core.display.Latex object>",
      "text/latex": "$rank(C + E * 2)^4= : 0\\\\$"
     },
     "metadata": {},
     "output_type": "display_data"
    }
   ],
   "source": [
    "for i in range(1, 5):\n",
    "    rank = ((A + Matrix.get_id(A.n) * 2) ** i).get_rank()\n",
    "    display(Latex(f\"$rank(A + E * 2)^{i}= : {rank}\\\\\\\\$\"))\n",
    "    rank = ((B + Matrix.get_id(B.n) * 2) ** i).get_rank()\n",
    "    display(Latex(f\"$rank(B + E * 2)^{i}= : {rank}\\\\\\\\$\"))\n",
    "    rank = ((C + Matrix.get_id(C.n) * 2) ** i).get_rank()\n",
    "    display(Latex(f\"$rank(C + E * 2)^{i}= : {rank}\\\\\\\\$\"))"
   ],
   "metadata": {
    "collapsed": false,
    "pycharm": {
     "name": "#%%\n"
    }
   }
  },
  {
   "cell_type": "markdown",
   "source": [
    "Теперь видим, что матрицы А и B задают один и тот же оператор, а С другой,\n",
    "т.к у нее отличается ЖНФ.\n"
   ],
   "metadata": {
    "collapsed": false,
    "pycharm": {
     "name": "#%% md\n"
    }
   }
  }
 ],
 "metadata": {
  "kernelspec": {
   "display_name": "Python 3",
   "language": "python",
   "name": "python3"
  },
  "language_info": {
   "codemirror_mode": {
    "name": "ipython",
    "version": 2
   },
   "file_extension": ".py",
   "mimetype": "text/x-python",
   "name": "python",
   "nbconvert_exporter": "python",
   "pygments_lexer": "ipython2",
   "version": "2.7.6"
  }
 },
 "nbformat": 4,
 "nbformat_minor": 0
}