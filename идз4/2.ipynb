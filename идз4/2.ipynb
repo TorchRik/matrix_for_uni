{
 "cells": [
  {
   "cell_type": "code",
   "metadata": {
    "collapsed": true,
    "pycharm": {
     "name": "#%%\n"
    }
   },
   "source": [
    "from library.matrix import Matrix\n",
    "from library.polynomial import Polynomial\n",
    "from library.rationals import Rational\n",
    "from IPython.display import display, Latex\n",
    "\n",
    "A = Matrix([[5, 3, 2,  0,  0, 0],\n",
    "            [0, 3, -1, 0, 0, 0],\n",
    "            [0, 2, 6, 0, 0, 0],\n",
    "            [-1, -2, -1, 3, 1, 0],\n",
    "            [-2, -7, -3, -4, 7, 0],\n",
    "            [1, 6, 2, 5, -3, 4]])\n",
    "print(\"A = \")\n",
    "display(Latex(A.get_string_for_latex()))"
   ],
   "execution_count": 25,
   "outputs": [
    {
     "name": "stdout",
     "output_type": "stream",
     "text": [
      "A = \n"
     ]
    },
    {
     "data": {
      "text/plain": "<IPython.core.display.Latex object>",
      "text/latex": "\\begin{align*} \\begin{pmatrix}5 & 3 & 2 & 0 & 0 & 0 \\\\\n0 & 3 & -1 & 0 & 0 & 0 \\\\\n0 & 2 & 6 & 0 & 0 & 0 \\\\\n-1 & -2 & -1 & 3 & 1 & 0 \\\\\n-2 & -7 & -3 & -4 & 7 & 0 \\\\\n1 & 6 & 2 & 5 & -3 & 4 \\\\\n\\end{pmatrix} \\end{align*}"
     },
     "metadata": {},
     "output_type": "display_data"
    }
   ]
  },
  {
   "cell_type": "code",
   "source": [
    "characteristic_polynomial = A.get_characteristic_polynomial()\n",
    "display(Latex(\"Характеристический многочлен равен:  \" + characteristic_polynomial.get_latex_view()))"
   ],
   "metadata": {
    "collapsed": false,
    "pycharm": {
     "name": "#%%\n"
    }
   },
   "execution_count": 26,
   "outputs": [
    {
     "data": {
      "text/plain": "<IPython.core.display.Latex object>",
      "text/latex": "Характеристический многочлен равен:  $1*x ^ 6-28*x ^ 5 + 326*x ^ 4-2020*x ^ 3 + 7025*x ^ 2-13000*x ^ 1 + 10000$"
     },
     "metadata": {},
     "output_type": "display_data"
    }
   ]
  },
  {
   "cell_type": "markdown",
   "source": [
    "Найдем корни хар многочлена:"
   ],
   "metadata": {
    "collapsed": false
   }
  },
  {
   "cell_type": "code",
   "execution_count": 27,
   "outputs": [
    {
     "data": {
      "text/plain": "<IPython.core.display.Latex object>",
      "text/latex": "$1*x ^ 6-28*x ^ 5 + 326*x ^ 4-2020*x ^ 3 + 7025*x ^ 2-13000*x ^ 1 + 10000$"
     },
     "metadata": {},
     "output_type": "display_data"
    },
    {
     "name": "stdout",
     "output_type": "stream",
     "text": [
      "Whole roots from -100 to 100 is  4 5\n"
     ]
    },
    {
     "data": {
      "text/plain": "<IPython.core.display.Latex object>",
      "text/latex": "$1*x ^ 4-19*x ^ 3 + 135*x ^ 2-425*x ^ 1 + 500$"
     },
     "metadata": {},
     "output_type": "display_data"
    },
    {
     "name": "stdout",
     "output_type": "stream",
     "text": [
      "Whole roots from -100 to 100 is  4 5\n"
     ]
    },
    {
     "data": {
      "text/plain": "<IPython.core.display.Latex object>",
      "text/latex": "$1*x ^ 2-10*x ^ 1 + 25$"
     },
     "metadata": {},
     "output_type": "display_data"
    },
    {
     "name": "stdout",
     "output_type": "stream",
     "text": [
      "Whole roots from -100 to 100 is  5\n"
     ]
    },
    {
     "data": {
      "text/plain": "<IPython.core.display.Latex object>",
      "text/latex": "$1*x ^ 1-5$"
     },
     "metadata": {},
     "output_type": "display_data"
    },
    {
     "name": "stdout",
     "output_type": "stream",
     "text": [
      "Whole roots from -100 to 100 is  5\n"
     ]
    },
    {
     "data": {
      "text/plain": "<IPython.core.display.Latex object>",
      "text/latex": "$1$"
     },
     "metadata": {},
     "output_type": "display_data"
    }
   ],
   "source": [
    "while True:\n",
    "    display(Latex(characteristic_polynomial.get_latex_view()))\n",
    "    roots = characteristic_polynomial.get_integer_roots_in_range(-100, 100)\n",
    "    if not roots:\n",
    "        break\n",
    "    print(\"Whole roots from -100 to 100 is \", *roots)\n",
    "    for x in roots:\n",
    "        characteristic_polynomial //= Polynomial([1, -x])\n"
   ],
   "metadata": {
    "collapsed": false,
    "pycharm": {
     "name": "#%%\n"
    }
   }
  },
  {
   "cell_type": "markdown",
   "source": [
    "Тогда характеристический многочлен имеет вид:\n",
    "$(x-4)^2 * (x -5) ^ 4$"
   ],
   "metadata": {
    "collapsed": false
   }
  },
  {
   "cell_type": "code",
   "execution_count": 28,
   "outputs": [
    {
     "name": "stdout",
     "output_type": "stream",
     "text": [
      "Количество клеток размера 1 для 5: 0\n",
      "Количество клеток размера 2 для 5: 2\n",
      "Количество клеток размера 3 для 5: 0\n",
      "Количество клеток размера 4 для 5: 0\n",
      "Количество клеток размера 1 для 4: 0\n",
      "Количество клеток размера 2 для 4: 1\n"
     ]
    }
   ],
   "source": [
    "for i in range(1, 5):\n",
    "    k = ((A - Matrix.get_id(A.n) * 5) ** (i + 1)).get_rank() +\\\n",
    "        ((A - Matrix.get_id(A.n) * 5) ** (i-1)).get_rank() -\\\n",
    "        2 * ((A - Matrix.get_id(A.n) * 5) ** i).get_rank()\n",
    "    print(f\"Количество клеток размера {i} для 5: {k}\")\n",
    "\n",
    "for i in range(1, 3):\n",
    "    k = ((A - Matrix.get_id(A.n) * 4) ** (i + 1)).get_rank() +\\\n",
    "        ((A - Matrix.get_id(A.n) * 4) ** (i-1)).get_rank() -\\\n",
    "        2 * ((A - Matrix.get_id(A.n) * 4) ** i).get_rank()\n",
    "    print(f\"Количество клеток размера {i} для 4: {k}\")"
   ],
   "metadata": {
    "collapsed": false,
    "pycharm": {
     "name": "#%%\n"
    }
   }
  },
  {
   "cell_type": "markdown",
   "source": [
    "Итоговый жнф матрицы такой:"
   ],
   "metadata": {
    "collapsed": false,
    "pycharm": {
     "name": "#%% md\n"
    }
   }
  },
  {
   "cell_type": "code",
   "execution_count": 29,
   "outputs": [
    {
     "data": {
      "text/plain": "<IPython.core.display.Latex object>",
      "text/latex": "\\begin{align*} \\begin{pmatrix}4 & 1 & 0 & 0 & 0 & 0 \\\\\n0 & 4 & 0 & 0 & 0 & 0 \\\\\n0 & 0 & 5 & 1 & 0 & 0 \\\\\n0 & 0 & 0 & 5 & 0 & 0 \\\\\n0 & 0 & 0 & 0 & 5 & 1 \\\\\n0 & 0 & 0 & 0 & 0 & 5 \\\\\n\\end{pmatrix} \\end{align*}"
     },
     "metadata": {},
     "output_type": "display_data"
    }
   ],
   "source": [
    "answer = Matrix([\n",
    "    [4, 1, 0, 0, 0, 0],\n",
    "    [0, 4, 0, 0, 0, 0],\n",
    "    [0, 0, 5, 1, 0, 0],\n",
    "    [0, 0, 0, 5, 0, 0],\n",
    "    [0, 0, 0, 0, 5, 1],\n",
    "    [0, 0, 0, 0, 0, 5]\n",
    "])\n",
    "display(Latex(answer.get_string_for_latex()))"
   ],
   "metadata": {
    "collapsed": false,
    "pycharm": {
     "name": "#%%\n"
    }
   }
  },
  {
   "cell_type": "markdown",
   "source": [
    "Теперь осталось всего лишь найти Жорданов базис)\n",
    "Найдем сначала вектор такой что $(A -4E)v \\neq 0$ и\n",
    "$(A - 4E)^2v = 0$."
   ],
   "metadata": {
    "collapsed": false
   }
  },
  {
   "cell_type": "code",
   "execution_count": 30,
   "outputs": [
    {
     "data": {
      "text/plain": "<IPython.core.display.Latex object>",
      "text/latex": "\\begin{align*} \\begin{pmatrix}1 & 0 & 0 & 0 & -1/2 & 0 \\\\\n0 & 1 & 0 & 0 & 1/2 & 0 \\\\\n0 & 0 & 1 & 0 & -1/2 & 0 \\\\\n0 & 0 & 0 & 1 & -1 & 0 \\\\\n0 & 0 & 0 & 0 & 0 & 0 \\\\\n0 & 0 & 0 & 0 & 0 & 0 \\\\\n\\end{pmatrix} \\end{align*}"
     },
     "metadata": {},
     "output_type": "display_data"
    }
   ],
   "source": [
    "display(Latex(((A - Matrix.get_id(6) * 4) ** 2).get_gaus_matrix().get_string_for_latex()))"
   ],
   "metadata": {
    "collapsed": false,
    "pycharm": {
     "name": "#%%\n"
    }
   }
  },
  {
   "cell_type": "code",
   "execution_count": 31,
   "outputs": [
    {
     "name": "stdout",
     "output_type": "stream",
     "text": [
      "1/2 \n",
      "-1/2 \n",
      "1/2 \n",
      "1 \n",
      "1 \n",
      "0 \n",
      "\n",
      "0 \n",
      "0 \n",
      "0 \n",
      "0 \n",
      "0 \n",
      "1/2 \n",
      "\n"
     ]
    }
   ],
   "source": [
    "v0 = Matrix([[Rational(1, 2)], [Rational(-1, 2)], [Rational(1, 2)], [1], [1], [0]])\n",
    "v01 = (A - Matrix.get_id(6) * 4) * v0\n",
    "print(v0)\n",
    "print(v01)  # не равно 0, значит нашли нужный вектор"
   ],
   "metadata": {
    "collapsed": false,
    "pycharm": {
     "name": "#%%\n"
    }
   }
  },
  {
   "cell_type": "markdown",
   "source": [
    "Тем самым можем взять в качестве $e_1 = v$, $e_2  = (A - 4  E) *v$\n",
    "Повторим этот увлекательный процесс для второго корня:"
   ],
   "metadata": {
    "collapsed": false,
    "pycharm": {
     "name": "#%% md\n"
    }
   }
  },
  {
   "cell_type": "code",
   "execution_count": 32,
   "outputs": [
    {
     "data": {
      "text/plain": "<IPython.core.display.Latex object>",
      "text/latex": "\\begin{align*} \\begin{pmatrix}0 & 1 & 1/2 & 0 & 0 & 0 \\\\\n0 & 0 & 0 & 1 & -2/3 & -1/3 \\\\\n0 & 0 & 0 & 0 & 0 & 0 \\\\\n0 & 0 & 0 & 0 & 0 & 0 \\\\\n0 & 0 & 0 & 0 & 0 & 0 \\\\\n0 & 0 & 0 & 0 & 0 & 0 \\\\\n\\end{pmatrix} \\end{align*}"
     },
     "metadata": {},
     "output_type": "display_data"
    }
   ],
   "source": [
    "display(Latex(((A - Matrix.get_id(6) * 5) ** 2).get_gaus_matrix().get_string_for_latex()))"
   ],
   "metadata": {
    "collapsed": false,
    "pycharm": {
     "name": "#%%\n"
    }
   }
  },
  {
   "cell_type": "code",
   "source": [
    "v1 = Matrix([\n",
    "    [0], [Rational(-1, 2)], [1],[0],[0],[0]\n",
    "])\n",
    "\n",
    "v2 = Matrix([\n",
    "    [0],[0],[0], [Rational(2, 3)], [1], [0]\n",
    "])\n",
    "v3 = (A - Matrix.get_id(6) * 5) * v1\n",
    "v4 = (A - Matrix.get_id(6) * 5) * v2\n",
    "print(v3)\n",
    "print(v4)\n",
    "\n",
    "vectors = [v0, v01, v1, v3, v2, v4]\n",
    "array = [[] for i in range(6)]\n",
    "for i in range(6):\n",
    "    for j in range(6):\n",
    "        array[i].append(vectors[j][i][0])\n",
    "\n",
    "D = Matrix(array)\n",
    "display(Latex(D.get_string_for_latex()))\n",
    "\n",
    "display(Latex((D.get_reverse() * A * D).get_string_for_latex()))"
   ],
   "metadata": {
    "collapsed": false,
    "pycharm": {
     "name": "#%%\n"
    }
   },
   "execution_count": 33,
   "outputs": [
    {
     "name": "stdout",
     "output_type": "stream",
     "text": [
      "1/2 \n",
      "0 \n",
      "0 \n",
      "0 \n",
      "1/2 \n",
      "-1 \n",
      "\n",
      "0 \n",
      "0 \n",
      "0 \n",
      "-1/3 \n",
      "-2/3 \n",
      "1/3 \n",
      "\n"
     ]
    },
    {
     "data": {
      "text/plain": "<IPython.core.display.Latex object>",
      "text/latex": "\\begin{align*} \\begin{pmatrix}1/2 & 0 & 0 & 1/2 & 0 & 0 \\\\\n-1/2 & 0 & -1/2 & 0 & 0 & 0 \\\\\n1/2 & 0 & 1 & 0 & 0 & 0 \\\\\n1 & 0 & 0 & 0 & 2/3 & -1/3 \\\\\n1 & 0 & 0 & 1/2 & 1 & -2/3 \\\\\n0 & 1/2 & 0 & -1 & 0 & 1/3 \\\\\n\\end{pmatrix} \\end{align*}"
     },
     "metadata": {},
     "output_type": "display_data"
    },
    {
     "data": {
      "text/plain": "<IPython.core.display.Latex object>",
      "text/latex": "\\begin{align*} \\begin{pmatrix}4 & 0 & 0 & 0 & 0 & 0 \\\\\n1 & 4 & 0 & 0 & 0 & 0 \\\\\n0 & 0 & 5 & 0 & 0 & 0 \\\\\n0 & 0 & 1 & 5 & 0 & 0 \\\\\n0 & 0 & 0 & 0 & 5 & 0 \\\\\n0 & 0 & 0 & 0 & 1 & 5 \\\\\n\\end{pmatrix} \\end{align*}"
     },
     "metadata": {},
     "output_type": "display_data"
    }
   ]
  },
  {
   "cell_type": "markdown",
   "source": [
    "Ура нашли жорданов базис - матрица D и проверили что она действительно дает Жорданов базис."
   ],
   "metadata": {
    "collapsed": false
   }
  }
 ],
 "metadata": {
  "kernelspec": {
   "display_name": "Python 3",
   "language": "python",
   "name": "python3"
  },
  "language_info": {
   "codemirror_mode": {
    "name": "ipython",
    "version": 2
   },
   "file_extension": ".py",
   "mimetype": "text/x-python",
   "name": "python",
   "nbconvert_exporter": "python",
   "pygments_lexer": "ipython2",
   "version": "2.7.6"
  }
 },
 "nbformat": 4,
 "nbformat_minor": 0
}