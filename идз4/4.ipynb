{
 "cells": [
  {
   "cell_type": "markdown",
   "source": [
    "Заметим, что хар многочлен не зависит от t(просто вычислим его) и равен:"
   ],
   "metadata": {
    "collapsed": false
   }
  },
  {
   "cell_type": "code",
   "execution_count": 6,
   "outputs": [
    {
     "data": {
      "text/plain": "<IPython.core.display.Latex object>",
      "text/latex": "$1*x ^ 5-8*x ^ 4 + 4*x ^ 3 + 80*x ^ 2-64*x ^ 1-256$"
     },
     "metadata": {},
     "output_type": "display_data"
    },
    {
     "name": "stdout",
     "output_type": "stream",
     "text": [
      "-2 2\n",
      "4 3\n"
     ]
    }
   ],
   "source": [
    "from library.matrix import Matrix\n",
    "from library.polynomial import Polynomial\n",
    "from library.rationals import Rational\n",
    "from IPython.display import display, Latex\n",
    "x = 0\n",
    "A = Matrix([\n",
    "    [4, 0, 0, x, x + 1],\n",
    "    [1, 4, x -1, 0, 0],\n",
    "    [0, 0, -2, 0, 0],\n",
    "    [0, 0, 0, 4, 0],\n",
    "    [0, 0, 1, 0, -2]\n",
    "])\n",
    "f = A.get_characteristic_polynomial()\n",
    "display(Latex(f.get_latex_view()))\n",
    "for i in range(-10, 10):\n",
    "    if f.substitute_x(i) == 0:\n",
    "        print(i, end = ' ')\n",
    "        count = 0\n",
    "        while f.substitute_x(i) == 0:\n",
    "            f //= Polynomial([1, -i])\n",
    "            count += 1\n",
    "        print(count)"
   ],
   "metadata": {
    "collapsed": false,
    "pycharm": {
     "name": "#%%\n"
    }
   }
  },
  {
   "cell_type": "markdown",
   "source": [
    "Хар многочлен равен:\n",
    "$(x+2)^2 * (x -4) ^ 3$\n",
    "\n",
    "Теперь заметим, что при сопряжении матрицы A другой невырожденной матрице\n",
    "итоговая матрица попрежнему коммутирует со всеми матрицами X с которыми коммутировала A и\n",
    "не коммутирует со всеми другими:\n",
    "\n",
    "$A' = B^{-1} * A * B$\n",
    "\n",
    "$A'X = XA'$\n",
    "\n",
    "$B^{-1}ABX = X  B^{-1} A B$\n",
    "\n",
    "$A B X B^{-1} = B X  B^{-1} A$\n",
    "\n",
    "Получили что если A сопряженное коммутирует с X то A\n",
    "коммутирует с сопряженным X, но тогда получаем что множество матриц коммутирующих\n",
    "с А не изменяется при сопряжении. Тогда достаточно рассмотреть все возможные\n",
    "ЖНФ исходной матрицы(считать руками ну очень лень, видимо нужно дописать класс многочленов, но не думаю\n",
    "что успею за 15 минут("
   ],
   "metadata": {
    "collapsed": false
   }
  }
 ],
 "metadata": {
  "kernelspec": {
   "display_name": "Python 3",
   "language": "python",
   "name": "python3"
  },
  "language_info": {
   "codemirror_mode": {
    "name": "ipython",
    "version": 2
   },
   "file_extension": ".py",
   "mimetype": "text/x-python",
   "name": "python",
   "nbconvert_exporter": "python",
   "pygments_lexer": "ipython2",
   "version": "2.7.6"
  }
 },
 "nbformat": 4,
 "nbformat_minor": 0
}