{
 "cells": [
  {
   "cell_type": "code",
   "execution_count": 18,
   "outputs": [
    {
     "name": "stdout",
     "output_type": "stream",
     "text": [
      "1 \n",
      "\n"
     ]
    }
   ],
   "source": [
    "from library.matrix import Matrix\n",
    "from library.polynomial import Polynomial\n",
    "from library.rationals import Rational\n",
    "from IPython.display import display, Latex\n",
    "\n",
    "A = Matrix([\n",
    "    [0, 0, -4,  3],\n",
    "    [0, 0, 9, -7],\n",
    "    [-4, 9, -6, 4],\n",
    "    [3, -7, 4, -3]\n",
    "])\n",
    "\n",
    "v = Matrix([\n",
    "    [3],\n",
    "    [1],\n",
    "    [-1],\n",
    "    [-1]\n",
    "])\n",
    "e1 = Matrix([\n",
    "    [1],\n",
    "    [0],\n",
    "    [0],\n",
    "    [0]\n",
    "])\n",
    "e2 = Matrix([\n",
    "    [0],\n",
    "    [1],\n",
    "    [0],\n",
    "    [0]\n",
    "])\n",
    "e3 = Matrix([\n",
    "    [0],\n",
    "    [0],\n",
    "    [1],\n",
    "    [0]\n",
    "])\n",
    "e4 = Matrix([\n",
    "    [0],\n",
    "    [0],\n",
    "    [0],\n",
    "    [1]\n",
    "])\n",
    "print(v.get_transposed() * A * v)"
   ],
   "metadata": {
    "collapsed": false,
    "pycharm": {
     "name": "#%%\n"
    }
   }
  },
  {
   "cell_type": "markdown",
   "source": [
    "Будем строить новый базис постепенно первым вектором возьмем v.\n",
    "Затем выберем векторы для базиса так:\n",
    "\n",
    "$e_2' = e_2 - \\lambda_1 * e_1'$\n",
    "\n",
    "$e_3' = e_3 - \\lambda_2 * e_1'  - \\lambda_3 * e_2'$\n",
    "\n",
    "$e_4' = e_4 - \\lambda_4 * e_1'  - \\lambda_5 * e_2' - \\lambda_5 * e_3'$\n",
    "\n",
    "При этом будем выбирать лямбда так, чтобы вектора были ортогональными."
   ],
   "metadata": {
    "collapsed": false
   }
  },
  {
   "cell_type": "code",
   "execution_count": 19,
   "outputs": [
    {
     "name": "stdout",
     "output_type": "stream",
     "text": [
      "6 \n",
      "3 \n",
      "-2 \n",
      "-2 \n",
      "\n",
      "27/2 \n",
      "25/4 \n",
      "-7/2 \n",
      "-9/2 \n",
      "\n",
      "-6/7 \n",
      "-2/7 \n",
      "1 \n",
      "9/7 \n",
      "\n"
     ]
    }
   ],
   "source": [
    "b = (v.get_transposed() * A * v)[0][0]\n",
    "b_e2 = (e2.get_transposed() * A * e2)[0][0]\n",
    "b_e3 = (e3.get_transposed() * A * e3)[0][0]\n",
    "b_e4 = (e4.get_transposed() * A * e4)[0][0]\n",
    "\n",
    "lambda_1 = (e2.get_transposed() * A * v)[0][0] / (v.get_transposed() * A * v)[0][0]\n",
    "new_e2 = e2 - v * lambda_1\n",
    "print(new_e2)\n",
    "\n",
    "lambda_2 = (e3.get_transposed() * A * v)[0][0] / (v.get_transposed() * A * v)[0][0]\n",
    "lambda_3 = (e3.get_transposed() * A * new_e2)[0][0] / (new_e2.get_transposed() * A * new_e2)[0][0]\n",
    "new_e3 = e3 - v * lambda_2 - new_e2 * lambda_3\n",
    "print(new_e3)\n",
    "\n",
    "lambda_4 = (e4.get_transposed() * A * v)[0][0] / (v.get_transposed() * A * v)[0][0]\n",
    "lambda_5 = (e4.get_transposed() * A * new_e2)[0][0] / (new_e2.get_transposed() * A * new_e2)[0][0]\n",
    "lambda_6 = (e4.get_transposed() * A * new_e3)[0][0] / (new_e3.get_transposed() * A * new_e3)[0][0]\n",
    "new_e4 = e4 - v * lambda_4 - new_e2 * lambda_5 - new_e3 * lambda_6\n",
    "print(new_e4)"
   ],
   "metadata": {
    "collapsed": false,
    "pycharm": {
     "name": "#%%\n"
    }
   }
  },
  {
   "cell_type": "markdown",
   "source": [
    "Нашли остальные базисные векторы, теперь готовы предоставить матрицу перехода от A к дигональному виду:"
   ],
   "metadata": {
    "collapsed": false
   }
  },
  {
   "cell_type": "code",
   "source": [
    "C = Matrix([\n",
    "    [3, 6, Rational(27,2), Rational(-6, 7)],\n",
    "    [1, 3, Rational(25, 4), Rational(-2, 7)],\n",
    "    [-1, -2, Rational(-7, 2), 1],\n",
    "    [-1, -2, Rational(-9, 2), Rational(9, 7)]\n",
    "])\n",
    "display(Latex(C.get_string_for_latex()))\n",
    "display(Latex((C.get_transposed() * A * C).get_string_for_latex()))"
   ],
   "metadata": {
    "collapsed": false,
    "pycharm": {
     "name": "#%%\n"
    }
   },
   "execution_count": 20,
   "outputs": [
    {
     "data": {
      "text/plain": "<IPython.core.display.Latex object>",
      "text/latex": "\\begin{align*} \\begin{pmatrix}3 & 6 & 27/2 & -6/7 \\\\\n1 & 3 & 25/4 & -2/7 \\\\\n-1 & -2 & -7/2 & 1 \\\\\n-1 & -2 & -9/2 & 9/7 \\\\\n\\end{pmatrix} \\end{align*}"
     },
     "metadata": {},
     "output_type": "display_data"
    },
    {
     "data": {
      "text/plain": "<IPython.core.display.Latex object>",
      "text/latex": "\\begin{align*} \\begin{pmatrix}1 & 0 & 0 & 0 \\\\\n0 & -4 & 0 & 0 \\\\\n0 & 0 & 21/4 & 0 \\\\\n0 & 0 & 0 & -3/7 \\\\\n\\end{pmatrix} \\end{align*}"
     },
     "metadata": {},
     "output_type": "display_data"
    }
   ]
  },
  {
   "cell_type": "markdown",
   "source": [
    "- нашли матрицу перехода С - в ее столбцах базис в котором билинейная форма диагональна,\n",
    "а сама диаганализованная форма это матрица ниже."
   ],
   "metadata": {
    "collapsed": false
   }
  }
 ],
 "metadata": {
  "kernelspec": {
   "display_name": "Python 3",
   "language": "python",
   "name": "python3"
  },
  "language_info": {
   "codemirror_mode": {
    "name": "ipython",
    "version": 2
   },
   "file_extension": ".py",
   "mimetype": "text/x-python",
   "name": "python",
   "nbconvert_exporter": "python",
   "pygments_lexer": "ipython2",
   "version": "2.7.6"
  }
 },
 "nbformat": 4,
 "nbformat_minor": 0
}