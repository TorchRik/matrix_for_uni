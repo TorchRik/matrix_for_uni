{
 "cells": [
  {
   "cell_type": "code",
   "execution_count": 1,
   "metadata": {
    "collapsed": true
   },
   "outputs": [],
   "source": [
    "from library.matrix import Matrix\n",
    "from library.rationals import Rational\n",
    "from IPython.display import display, Latex\n",
    "\n",
    "A = Matrix([\n",
    "    [4, -9, 7],\n",
    "    [-2, 9, -8],\n",
    "    [-2, 8, -7]\n",
    "])\n",
    "C_A = Matrix([  # матрица смены базиса для первого оператора\n",
    "    [-1, 2, -1],\n",
    "    [1, -3, 2],\n",
    "    [-1, 4, -4]\n",
    "])\n",
    "B = Matrix([\n",
    "    [3, 6, 6],\n",
    "    [-1, -4, -3],\n",
    "    [-2, -4, -4]\n",
    "])\n",
    "C_B = Matrix([  # матрица смены базиса для второго оператора\n",
    "    [-1, -1, -2],\n",
    "    [2, 1, 3],\n",
    "    [1, -1, 1]\n",
    "])"
   ]
  },
  {
   "cell_type": "code",
   "execution_count": 2,
   "outputs": [
    {
     "data": {
      "text/plain": "<IPython.core.display.Latex object>",
      "text/latex": "Матрица первого опреатора в стандартном базисе:"
     },
     "metadata": {},
     "output_type": "display_data"
    },
    {
     "data": {
      "text/plain": "<IPython.core.display.Latex object>",
      "text/latex": "$A' = C_{A}^{-1} * A * C_{A} = $"
     },
     "metadata": {},
     "output_type": "display_data"
    },
    {
     "data": {
      "text/plain": "<IPython.core.display.Latex object>",
      "text/latex": "\\begin{align*} \\begin{pmatrix}-13 & 56 & -54 \\\\\n-34 & 119 & -102 \\\\\n-35 & 119 & -100 \\\\\n\\end{pmatrix} \\end{align*}"
     },
     "metadata": {},
     "output_type": "display_data"
    },
    {
     "data": {
      "text/plain": "<IPython.core.display.Latex object>",
      "text/latex": "Где $C_{A}$ - смена базиса со стандартного на $g_1, g_2, g3$"
     },
     "metadata": {},
     "output_type": "display_data"
    },
    {
     "data": {
      "text/plain": "<IPython.core.display.Latex object>",
      "text/latex": "Матрица второго опреатора в стандартном базисе:"
     },
     "metadata": {},
     "output_type": "display_data"
    },
    {
     "data": {
      "text/plain": "<IPython.core.display.Latex object>",
      "text/latex": "$B' = C_{B}^{-1} * B * C_{B} = $"
     },
     "metadata": {},
     "output_type": "display_data"
    },
    {
     "data": {
      "text/plain": "<IPython.core.display.Latex object>",
      "text/latex": "\\begin{align*} \\begin{pmatrix}40 & -14 & 45 \\\\\n15 & -5 & 17 \\\\\n-35 & 11 & -40 \\\\\n\\end{pmatrix} \\end{align*}"
     },
     "metadata": {},
     "output_type": "display_data"
    },
    {
     "data": {
      "text/plain": "<IPython.core.display.Latex object>",
      "text/latex": "Матрица композиции операторов в стандартном базисе:"
     },
     "metadata": {},
     "output_type": "display_data"
    },
    {
     "data": {
      "text/plain": "<IPython.core.display.Latex object>",
      "text/latex": "$\\psi * \\phi = $"
     },
     "metadata": {},
     "output_type": "display_data"
    },
    {
     "data": {
      "text/plain": "<IPython.core.display.Latex object>",
      "text/latex": "\\begin{align*} \\begin{pmatrix}2210 & -692 & 2527 \\\\\n3995 & -1241 & 4573 \\\\\n3885 & -1205 & 4448 \\\\\n\\end{pmatrix} \\end{align*}"
     },
     "metadata": {},
     "output_type": "display_data"
    }
   ],
   "source": [
    "display(Latex(\"Матрица первого опреатора в стандартном базисе:\"))\n",
    "display(Latex(\"$A' = C_{A}^{-1} * A * C_{A} = $\"))\n",
    "standard_A = C_A.get_reverse() * A * C_A\n",
    "display(Latex(standard_A.get_string_for_latex()))\n",
    "display(Latex(\"Где $C_{A}$ - смена базиса со стандартного на $g_1, g_2, g3$\"))\n",
    "\n",
    "\n",
    "display(Latex(\"Матрица второго опреатора в стандартном базисе:\"))\n",
    "display(Latex(\"$B' = C_{B}^{-1} * B * C_{B} = $\"))\n",
    "standard_B = C_B.get_reverse() * B * C_B\n",
    "display(Latex(standard_B.get_string_for_latex()))\n",
    "\n",
    "\n",
    "display(Latex(\"Матрица композиции операторов в стандартном базисе:\"))\n",
    "display(Latex(\"$\\psi * \\phi = $\"))\n",
    "AB = standard_A * standard_B\n",
    "display(Latex(AB.get_string_for_latex()))"
   ],
   "metadata": {
    "collapsed": false,
    "pycharm": {
     "name": "#%%\n"
    }
   }
  },
  {
   "cell_type": "markdown",
   "source": [
    "Посчитаем теперь $ker(\\phi) + ker(\\psi)$\n",
    "Найдем $ker(\\phi):$"
   ],
   "metadata": {
    "collapsed": false,
    "pycharm": {
     "name": "#%% md\n"
    }
   }
  },
  {
   "cell_type": "code",
   "execution_count": 3,
   "outputs": [
    {
     "data": {
      "text/plain": "<IPython.core.display.Latex object>",
      "text/latex": "\\begin{align*} \\begin{pmatrix}1 & 0 & -2 \\\\\n0 & 1 & -10/7 \\\\\n0 & 0 & 0 \\\\\n\\end{pmatrix} \\end{align*}"
     },
     "metadata": {},
     "output_type": "display_data"
    },
    {
     "data": {
      "text/plain": "<IPython.core.display.Latex object>",
      "text/latex": "\\begin{align*} \\begin{pmatrix}1 & 0 & 13/10 \\\\\n0 & 1 & 1/2 \\\\\n0 & 0 & 0 \\\\\n\\end{pmatrix} \\end{align*}"
     },
     "metadata": {},
     "output_type": "display_data"
    }
   ],
   "source": [
    "display(Latex(standard_A.get_gaus_matrix().get_string_for_latex()))\n",
    "display(Latex(standard_B.get_gaus_matrix().get_string_for_latex()))"
   ],
   "metadata": {
    "collapsed": false,
    "pycharm": {
     "name": "#%%\n"
    }
   }
  },
  {
   "cell_type": "markdown",
   "source": [
    "Получаем, что $ker\\phi = <(2, 10/7, 1)>$\n",
    "$ker\\psi = <(-13/10, -1/2, 1)>$ - решение ФСР.\n",
    "Найдем базис суммы - это будут строки матрицы ниже:"
   ],
   "metadata": {
    "collapsed": false
   }
  },
  {
   "cell_type": "code",
   "execution_count": 4,
   "outputs": [
    {
     "data": {
      "text/plain": "<IPython.core.display.Latex object>",
      "text/latex": "\\begin{align*} \\begin{pmatrix}1 & 0 & -9/4 \\\\\n0 & 1 & 77/20 \\\\\n\\end{pmatrix} \\end{align*}"
     },
     "metadata": {},
     "output_type": "display_data"
    }
   ],
   "source": [
    "M = Matrix([[2, Rational(10, 7), 1], [Rational(-13, 10), Rational(-1, 2), 1]])\n",
    "display(Latex(M.get_gaus_matrix().get_string_for_latex()))"
   ],
   "metadata": {
    "collapsed": false,
    "pycharm": {
     "name": "#%%\n"
    }
   }
  },
  {
   "cell_type": "markdown",
   "source": [
    "Теперь найдем базис пересечения образов:\n",
    "$Im(\\phi) = <(−13, -34, -35), (56, 119, 119)>$\n",
    "\n",
    "$Im(\\psi) = <(40, 15, -35), (-14, -5, -11)>$- это линейно независимые столбцы в матрицах операторов, получили из УСВ этих матриц.\n",
    "\n",
    "Воспользуемся алгоритмом - уложим вектора базисов $Im(\\phi)$ и $Im(\\psi)$ в столбцы матрицы D и найдем их ФСР"
   ],
   "metadata": {
    "collapsed": false
   }
  },
  {
   "cell_type": "code",
   "execution_count": 5,
   "outputs": [
    {
     "data": {
      "text/plain": "<IPython.core.display.Latex object>",
      "text/latex": "\\begin{align*} \\begin{pmatrix}1 & 0 & 0 & -1326/199 \\\\\n0 & 1 & 0 & -2755/1393 \\\\\n0 & 0 & 1 & 252/995 \\\\\n\\end{pmatrix} \\end{align*}"
     },
     "metadata": {},
     "output_type": "display_data"
    }
   ],
   "source": [
    "D = Matrix([\n",
    "    [-13, 56, 40, -14],\n",
    "    [-34, 119, 15, -5],\n",
    "    [-35, 119, -35, -11]\n",
    "])\n",
    "display(Latex(D.get_gaus_matrix().get_string_for_latex()))"
   ],
   "metadata": {
    "collapsed": false,
    "pycharm": {
     "name": "#%%\n"
    }
   }
  },
  {
   "cell_type": "markdown",
   "source": [
    "Тогда ФСР матрицы D - $<(1326/199, 2755/1393, -252/995, 1)>$"
   ],
   "metadata": {
    "collapsed": false
   }
  },
  {
   "cell_type": "code",
   "execution_count": 11,
   "outputs": [
    {
     "name": "stdout",
     "output_type": "stream",
     "text": [
      "46410 \n",
      "13775 \n",
      "-1764 \n",
      "6965 \n",
      "\n"
     ]
    }
   ],
   "source": [
    "v = Matrix([\n",
    "    [Rational(1326, 199)],\n",
    "    [Rational(2755, 1393)],\n",
    "    [Rational(-252, 995)],\n",
    "    [1]\n",
    "])\n",
    "print(v * 1393 * 5)"
   ],
   "metadata": {
    "collapsed": false,
    "pycharm": {
     "name": "#%%\n"
    }
   }
  },
  {
   "cell_type": "markdown",
   "source": [
    "Теперь R = ((−13, -34, -35), (56, 119, 119)) * (46410, 13775)$\n",
    "Базис столбцов R будет базисом пересечения:"
   ],
   "metadata": {
    "collapsed": false
   }
  },
  {
   "cell_type": "code",
   "execution_count": 15,
   "outputs": [
    {
     "name": "stdout",
     "output_type": "stream",
     "text": [
      "-603330 \n",
      "-1577940 \n",
      "-1624350 \n",
      "\n",
      "771400 \n",
      "1639225 \n",
      "1639225 \n",
      "\n",
      "1 0 \n",
      "0 1 \n",
      "0 0 \n",
      "\n"
     ]
    }
   ],
   "source": [
    "r1 = Matrix([\n",
    "    [-13],\n",
    "    [-34],\n",
    "    [-35]\n",
    "])\n",
    "r2 = Matrix([\n",
    "    [56],\n",
    "    [119],\n",
    "    [119]\n",
    "])\n",
    "r1 *= 46410\n",
    "r2 *= 13775\n",
    "print(r1)\n",
    "print(r2)\n",
    "R = Matrix([\n",
    "    [r1[0][0], r2[0][0]],\n",
    "    [r1[1][0], r2[1][0]],\n",
    "    [r1[2][0], r2[2][0]]\n",
    "])\n",
    "print(R.get_gaus_matrix())"
   ],
   "metadata": {
    "collapsed": false,
    "pycharm": {
     "name": "#%%\n"
    }
   }
  },
  {
   "cell_type": "markdown",
   "source": [
    "Привели R к диагональному виду, видим что r1, r2 образуют базис, значит\n",
    "они и есть базис пересечения."
   ],
   "metadata": {
    "collapsed": false
   }
  }
 ],
 "metadata": {
  "kernelspec": {
   "display_name": "Python 3",
   "language": "python",
   "name": "python3"
  },
  "language_info": {
   "codemirror_mode": {
    "name": "ipython",
    "version": 2
   },
   "file_extension": ".py",
   "mimetype": "text/x-python",
   "name": "python",
   "nbconvert_exporter": "python",
   "pygments_lexer": "ipython2",
   "version": "2.7.6"
  }
 },
 "nbformat": 4,
 "nbformat_minor": 0
}